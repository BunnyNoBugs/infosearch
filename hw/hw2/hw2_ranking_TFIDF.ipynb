{
 "cells": [
  {
   "cell_type": "markdown",
   "metadata": {},
   "source": [
    "# ДЗ 2  \n",
    "## Ранжирование: TF-IDF, матрица Document-Term, косинусная близость"
   ]
  },
  {
   "cell_type": "markdown",
   "metadata": {},
   "source": [
    "### TfidfVectorizer"
   ]
  },
  {
   "cell_type": "code",
   "execution_count": 1,
   "metadata": {},
   "outputs": [
    {
     "name": "stdout",
     "output_type": "stream",
     "text": [
      "X:\n",
      " [[0.61366674 0.49681612 0.61366674 0.        ]\n",
      " [0.         0.62922751 0.77722116 0.        ]\n",
      " [0.92693676 0.3752176  0.         0.        ]\n",
      " [0.         0.         0.         1.        ]] \n",
      "\n",
      "get_feature_names: ['слово1', 'слово2', 'слово3', 'слово4'] \n",
      "\n",
      "vocabulary_.get: 0\n",
      "vocabulary_.get: 3 \n",
      "\n",
      "transform: [[0.36673901 0.         0.         0.93032387]]\n"
     ]
    }
   ],
   "source": [
    "import numpy as np\n",
    "from sklearn.feature_extraction.text import TfidfVectorizer\n",
    "\n",
    "\n",
    "# инициализируем\n",
    "vectorizer = TfidfVectorizer()\n",
    "\n",
    "\n",
    "# составляем корпус документов\n",
    "corpus = [\n",
    "  'слово1 слово2 слово3',\n",
    "  'слово2 слово3',\n",
    "  'слово1 слово2 слово1',\n",
    "  'слово4'\n",
    "]\n",
    "\n",
    "# считаем\n",
    "X = vectorizer.fit_transform(corpus)\n",
    " \n",
    "# получится следующая структура:\n",
    "#        |  слово1  |  слово2  |  слово3  |  слово4\n",
    "# текст1 |   0.6    |    0.5   |   0.6    |    0\n",
    "# текст2 |   0      |    0.6   |   0.8    |    0\n",
    "# текст3 |   0.9    |    0.4   |   0      |    0\n",
    "# текст4 |   0      |    0     |   0      |    1\n",
    "\n",
    "\n",
    "# показать матрицу\n",
    "print('X:\\n', X.toarray(), '\\n')\n",
    "\n",
    " \n",
    "# чтобы получить сгенерированный словарВ ь, из приведенной структуры CountVectorizer\n",
    "# порядок совпадает с матрицей\n",
    "print('get_feature_names:', vectorizer.get_feature_names(), '\\n')  # ['слово1', 'слово2', 'слово3', 'слово4']\n",
    " \n",
    "    \n",
    "# чтобы узнать индекс токена в словаре\n",
    "print('vocabulary_.get:', vectorizer.vocabulary_.get('слово1')) # вернет 0\n",
    "print('vocabulary_.get:', vectorizer.vocabulary_.get('слово4'), '\\n') # вернет 3\n",
    "\n",
    " \n",
    "# теперь можно быстро подсчитать вектор для нового документа\n",
    "print('transform:', vectorizer.transform(['слово1 слово4 слово4']).toarray())  # результат [[0.36673901, 0, 0, 0.93032387]]\n"
   ]
  },
  {
   "cell_type": "markdown",
   "metadata": {},
   "source": [
    " "
   ]
  },
  {
   "cell_type": "markdown",
   "metadata": {},
   "source": [
    "### __Задача__:    \n",
    "\n",
    "Реализуйте поиск, где \n",
    "- в качестве метода векторизации документов корпуса - **TF-IDF**\n",
    "- формат хранения индекса - **матрица Document-Term**\n",
    "- метрика близости пар (запрос, документ) - **косинусная близость**\n",
    "- в качестве корпуса - **корпус Друзей из первого задания**\n",
    "\n",
    "\n",
    "Что должно быть в реализации:\n",
    "- функция индексации корпуса, на выходе которой посчитанная матрица Document-Term \n",
    "- функция индексации запроса, на выходе которой посчитанный вектор запроса\n",
    "- функция с реализацией подсчета близости запроса и документов корпуса, на выходе которой вектор, i-й элемент которого обозначает близость запроса с i-м документом корпуса\n",
    "- главная функция, объединяющая все это вместе; на входе - запрос, на выходе - отсортированные по убыванию имена документов коллекции\n",
    "\n",
    "\n",
    "**На что направлена эта задача:** \n",
    "Реализация от начала до конца механики поиска с использованием простых компонентов.\n"
   ]
  }
 ],
 "metadata": {
  "kernelspec": {
   "display_name": "Python 3",
   "language": "python",
   "name": "python3"
  },
  "language_info": {
   "codemirror_mode": {
    "name": "ipython",
    "version": 3
   },
   "file_extension": ".py",
   "mimetype": "text/x-python",
   "name": "python",
   "nbconvert_exporter": "python",
   "pygments_lexer": "ipython3",
   "version": "3.7.6"
  }
 },
 "nbformat": 4,
 "nbformat_minor": 2
}
