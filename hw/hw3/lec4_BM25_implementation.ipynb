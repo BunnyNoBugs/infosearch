{
 "cells": [
  {
   "cell_type": "markdown",
   "metadata": {},
   "source": [
    "# BM25"
   ]
  },
  {
   "cell_type": "markdown",
   "metadata": {},
   "source": [
    "Для обратного индекса есть общепринятая формула для ранжирования *Okapi best match 25* ([Okapi BM25](https://ru.wikipedia.org/wiki/Okapi_BM25)).    \n",
    "Пусть дан запрос $Query$, содержащий слова  $q_1, ... , q_n$, тогда функция BM25 даёт следующую оценку релевантности документа $Doc$ запросу $Query$:\n",
    "\n",
    "$$ BM25(Query, Doc) = \\sum_{i=1}^{n} \\text{IDF}(q_i)*\\frac{TF(q_i,Doc)*(k+1)}{TF(q_i,Doc)+k(1-b+b\\frac{l(d)}{avgdl})} $$ \n",
    "где    \n",
    "$$$$\n",
    "$\\text{IDF}(q_i)$: \n",
    "$$\\text{IDF}(q_i) = \\log\\frac{N-n(q_i)+0.5}{n(q_i)+0.5},$$\n",
    ">> где $N$ - общее количество документов в корпусе   \n",
    "$n(q_i)$ — количество документов, содержащих слово $q_i$\n",
    "\n",
    ">$TF(q_i,Doc)$ - частота слова $q_i$ в документе $Doc$    \n",
    "$k$ и $b$ — свободные коэффициенты, обычно их выбирают как $k$=2.0 и $b$=0.75  \n",
    "$l(d)$ - количество слов документа  \n",
    "$avgdl$ — средняя длина документов в корпусе    "
   ]
  },
  {
   "cell_type": "markdown",
   "metadata": {},
   "source": [
    "## Распишем операции\n",
    "\n",
    "Первая компонента **IDF**. Переменные для расчета:\n",
    "- $N$ - общее число документов в корпусе (*shape*)\n",
    "- $n(q_i)$ - количество документов, содержащих слово $q_i$ (*numpy.count_nonzero*)\n",
    "\n",
    "Вторая компонента **TF * Const**. Переменные для расчета:\n",
    "- $TF(q_i,Doc)$ - частота слова $q_i$ в документе $Doc$ (*CountVectorizer*) \n",
    "- $l(d)$ - количество слов в документе (*DT_CountVectorizer_Matrix.sum(axis=1)*)\n",
    "- $avgdl$ — среднее количество слов документа в корпусе (*DT_CountVectorizer_Matrix.sum(axis=1).mean()*) \n",
    "- Константы $k$=2.0 и $b$=0.75  "
   ]
  },
  {
   "cell_type": "markdown",
   "metadata": {},
   "source": [
    "# run in dense"
   ]
  },
  {
   "cell_type": "markdown",
   "metadata": {},
   "source": [
    "\n",
    "$$ BM25(Query, Doc) = \\sum_{i=1}^{n} \\text{IDF}(q_i)*\\frac{TF(q_i,Doc)*(k+1)}{TF(q_i,Doc)+k(1-b+b\\frac{l(d)}{avgdl})} $$ "
   ]
  },
  {
   "cell_type": "markdown",
   "metadata": {},
   "source": [
    "Начинаем реализацию BM25"
   ]
  },
  {
   "cell_type": "code",
   "execution_count": 2,
   "metadata": {},
   "outputs": [],
   "source": [
    "# импорты, константы и корпус \n",
    "\n",
    "import numpy as np\n",
    "from sklearn.feature_extraction.text import TfidfVectorizer\n",
    "from sklearn.feature_extraction.text import CountVectorizer \n",
    "\n",
    "k = 2\n",
    "b = 0.75\n",
    "\n",
    "texts = [\n",
    "    'киса',\n",
    "    'мама',\n",
    "    'мыла',\n",
    "    'раму',\n",
    "    'киса-мама мыла раму'\n",
    "]\n",
    "\n",
    "# from sklearn.datasets import fetch_20newsgroups\n",
    "# texts = fetch_20newsgroups(subset='train')['data']\n",
    "# texts = texts[:10000]"
   ]
  },
  {
   "cell_type": "markdown",
   "metadata": {},
   "source": [
    "Создадим основные переменные - TF и IDF"
   ]
  },
  {
   "cell_type": "code",
   "execution_count": 3,
   "metadata": {},
   "outputs": [],
   "source": [
    "# матрица tf + понадобится для индексации запроса\n",
    "count_vectorizer = CountVectorizer()\n",
    "count = count_vectorizer.fit_transform(texts).toarray() \n",
    "tf = count\n",
    "\n",
    "# для расчета idf\n",
    "tfidf_vectorizer = TfidfVectorizer(use_idf=True, norm='l2') \n",
    "tfidf = tfidf_vectorizer.fit_transform(texts).toarray()\n",
    "\n",
    "# расчет idf\n",
    "idf = tfidf_vectorizer.idf_  # формула idf в sklearn: log((N+1)/(n+1))+1, и нам это ок\n",
    "idf = np.expand_dims(idf, axis=0) # необязательно благодаря broadcast "
   ]
  },
  {
   "cell_type": "markdown",
   "metadata": {},
   "source": [
    "Создадим переменные знаменателя - l(d) и avdl"
   ]
  },
  {
   "cell_type": "code",
   "execution_count": 4,
   "metadata": {},
   "outputs": [],
   "source": [
    "# расчет количества слов в каждом документе - l(d) \n",
    "len_d = tf.sum(axis=1)\n",
    "\n",
    "# расчет среднего количества слов документов корпуса - avdl\n",
    "avdl = len_d.mean()"
   ]
  },
  {
   "cell_type": "markdown",
   "metadata": {},
   "source": [
    "Создадим итоговую матрицу для корпуса"
   ]
  },
  {
   "cell_type": "code",
   "execution_count": 5,
   "metadata": {},
   "outputs": [],
   "source": [
    "# расчет числителя\n",
    "A = idf * tf * (k + 1)\n",
    "\n",
    "# расчет знаменателя\n",
    "B_1 = (k * (1 - b + b * len_d / avdl))\n",
    "B_1 = np.expand_dims(B_1, axis=-1) \n",
    "\n",
    "B = tf + B_1\n",
    "\n",
    "# BM25\n",
    "matrix = A / B"
   ]
  },
  {
   "cell_type": "markdown",
   "metadata": {},
   "source": [
    "Посчитаем релевантность документов для запроса"
   ]
  },
  {
   "cell_type": "code",
   "execution_count": 6,
   "metadata": {},
   "outputs": [],
   "source": [
    "query = 'киса'\n",
    "# преобразуем запрос в вектор \n",
    "query_count_vec = count_vectorizer.transform([query]).toarray()"
   ]
  },
  {
   "cell_type": "code",
   "execution_count": 7,
   "metadata": {},
   "outputs": [
    {
     "name": "stdout",
     "output_type": "stream",
     "text": [
      "CPU times: user 42 µs, sys: 19 µs, total: 61 µs\n",
      "Wall time: 66.8 µs\n"
     ]
    },
    {
     "data": {
      "text/plain": [
       "array([[2.08387345],\n",
       "       [0.        ],\n",
       "       [0.        ],\n",
       "       [0.        ],\n",
       "       [0.96751267]])"
      ]
     },
     "execution_count": 7,
     "metadata": {},
     "output_type": "execute_result"
    }
   ],
   "source": [
    "%%time\n",
    "np.dot(matrix, query_count_vec.T)"
   ]
  },
  {
   "cell_type": "markdown",
   "metadata": {},
   "source": [
    "# run in sparse"
   ]
  },
  {
   "cell_type": "markdown",
   "metadata": {},
   "source": [
    "Способ создания разреженной матрицы"
   ]
  },
  {
   "cell_type": "code",
   "execution_count": 8,
   "metadata": {},
   "outputs": [
    {
     "data": {
      "text/plain": [
       "array([[18,  0, 26],\n",
       "       [ 0,  0,  3],\n",
       "       [ 4, 54,  6]], dtype=int64)"
      ]
     },
     "execution_count": 8,
     "metadata": {},
     "output_type": "execute_result"
    }
   ],
   "source": [
    "from scipy import sparse\n",
    "\n",
    "data = np.array([18, 26, 3, 4, 54, 6])\n",
    "row = np.array([0, 0, 1, 2, 2, 2])\n",
    "col = np.array([0, 2, 2, 0, 1, 2])\n",
    "\n",
    "sparse.csr_matrix((data, (row, col)), shape=(3, 3)).toarray()"
   ]
  }
 ],
 "metadata": {
  "kernelspec": {
   "display_name": "Python 3",
   "language": "python",
   "name": "python3"
  },
  "language_info": {
   "codemirror_mode": {
    "name": "ipython",
    "version": 3
   },
   "file_extension": ".py",
   "mimetype": "text/x-python",
   "name": "python",
   "nbconvert_exporter": "python",
   "pygments_lexer": "ipython3",
   "version": "3.7.6"
  }
 },
 "nbformat": 4,
 "nbformat_minor": 4
}
